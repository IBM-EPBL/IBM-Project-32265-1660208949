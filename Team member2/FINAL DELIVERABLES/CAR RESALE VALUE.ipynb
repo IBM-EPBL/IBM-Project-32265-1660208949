{
 "cells": [
  {
   "cell_type": "code",
   "execution_count": 1,
   "id": "812d8106",
   "metadata": {},
   "outputs": [
    {
     "name": "stderr",
     "output_type": "stream",
     "text": [
      "C:\\Users\\SHARUN KUMAR\\anaconda3\\lib\\site-packages\\scipy\\__init__.py:146: UserWarning: A NumPy version >=1.16.5 and <1.23.0 is required for this version of SciPy (detected version 1.23.3\n",
      "  warnings.warn(f\"A NumPy version >={np_minversion} and <{np_maxversion}\"\n"
     ]
    }
   ],
   "source": [
    "import pandas as pd\n",
    "import numpy as np\n",
    "import matplotlib as plt\n",
    "from sklearn.preprocessing import LabelEncoder\n",
    "import pickle"
   ]
  },
  {
   "cell_type": "code",
   "execution_count": 2,
   "id": "2966f5ab",
   "metadata": {},
   "outputs": [
    {
     "name": "stderr",
     "output_type": "stream",
     "text": [
      "C:\\Users\\SHARUN KUMAR\\AppData\\Local\\Temp\\ipykernel_15804\\2291570862.py:1: DtypeWarning: Columns (11) have mixed types. Specify dtype option on import or set low_memory=False.\n",
      "  df = pd.read_csv(\"dataset5.csv\", header=0, sep=',', encoding='Latin1',)\n"
     ]
    }
   ],
   "source": [
    "df = pd.read_csv(\"dataset5.csv\", header=0, sep=',', encoding='Latin1',)"
   ]
  },
  {
   "cell_type": "code",
   "execution_count": 3,
   "id": "5a1f1055",
   "metadata": {},
   "outputs": [
    {
     "name": "stdout",
     "output_type": "stream",
     "text": [
      "Index(['dateCrawled', 'name', 'seller', 'offerType', 'price', 'abtest',\n",
      "       'vehicleType', 'yearOfRegistration', 'gearbox', 'powerPS', 'model',\n",
      "       'kilometer', 'monthOfRegistration', 'fuelType', 'brand',\n",
      "       'notRepairedDamage', 'dateCreated', 'nrOfPictures', 'postalCode',\n",
      "       'lastSeen'],\n",
      "      dtype='object') (371539, 20)\n"
     ]
    }
   ],
   "source": [
    "#print the column names for having a breif idea about the data,\n",
    "#via shape and noumber of rows and columns\n",
    "print(df.columns ,df.shape)\n"
   ]
  },
  {
   "cell_type": "code",
   "execution_count": 4,
   "id": "f4001853",
   "metadata": {},
   "outputs": [
    {
     "name": "stdout",
     "output_type": "stream",
     "text": [
      "privat        371534\n",
      "gewerblich         3\n",
      "golf               1\n",
      "Name: seller, dtype: int64\n"
     ]
    }
   ],
   "source": [
    "#print al the different sellers\n",
    "print(df.seller.value_counts())"
   ]
  },
  {
   "cell_type": "code",
   "execution_count": 5,
   "id": "14d57a1c",
   "metadata": {},
   "outputs": [
    {
     "data": {
      "text/html": [
       "<div>\n",
       "<style scoped>\n",
       "    .dataframe tbody tr th:only-of-type {\n",
       "        vertical-align: middle;\n",
       "    }\n",
       "\n",
       "    .dataframe tbody tr th {\n",
       "        vertical-align: top;\n",
       "    }\n",
       "\n",
       "    .dataframe thead th {\n",
       "        text-align: right;\n",
       "    }\n",
       "</style>\n",
       "<table border=\"1\" class=\"dataframe\">\n",
       "  <thead>\n",
       "    <tr style=\"text-align: right;\">\n",
       "      <th></th>\n",
       "      <th>dateCrawled</th>\n",
       "      <th>name</th>\n",
       "      <th>seller</th>\n",
       "      <th>offerType</th>\n",
       "      <th>price</th>\n",
       "      <th>abtest</th>\n",
       "      <th>vehicleType</th>\n",
       "      <th>yearOfRegistration</th>\n",
       "      <th>gearbox</th>\n",
       "      <th>powerPS</th>\n",
       "      <th>model</th>\n",
       "      <th>kilometer</th>\n",
       "      <th>monthOfRegistration</th>\n",
       "      <th>fuelType</th>\n",
       "      <th>brand</th>\n",
       "      <th>notRepairedDamage</th>\n",
       "      <th>dateCreated</th>\n",
       "      <th>nrOfPictures</th>\n",
       "      <th>postalCode</th>\n",
       "      <th>lastSeen</th>\n",
       "    </tr>\n",
       "  </thead>\n",
       "  <tbody>\n",
       "    <tr>\n",
       "      <th>0</th>\n",
       "      <td>24-03-2016 11:52</td>\n",
       "      <td>Golf_3_1.6</td>\n",
       "      <td>privat</td>\n",
       "      <td>Angebot</td>\n",
       "      <td>480.0</td>\n",
       "      <td>test</td>\n",
       "      <td>NaN</td>\n",
       "      <td>1993.0</td>\n",
       "      <td>manuell</td>\n",
       "      <td>0.0</td>\n",
       "      <td>golf</td>\n",
       "      <td>150000</td>\n",
       "      <td>0.0</td>\n",
       "      <td>benzin</td>\n",
       "      <td>volkswagen</td>\n",
       "      <td>NaN</td>\n",
       "      <td>24-03-2016 00:00</td>\n",
       "      <td>0.0</td>\n",
       "      <td>70435.0</td>\n",
       "      <td>07-04-2016 03:16</td>\n",
       "    </tr>\n",
       "    <tr>\n",
       "      <th>1</th>\n",
       "      <td>24-03-2016 10:58</td>\n",
       "      <td>A5_Sportback_2.7_Tdi</td>\n",
       "      <td>privat</td>\n",
       "      <td>Angebot</td>\n",
       "      <td>18300.0</td>\n",
       "      <td>test</td>\n",
       "      <td>coupe</td>\n",
       "      <td>2011.0</td>\n",
       "      <td>manuell</td>\n",
       "      <td>190.0</td>\n",
       "      <td>NaN</td>\n",
       "      <td>125000</td>\n",
       "      <td>5.0</td>\n",
       "      <td>diesel</td>\n",
       "      <td>audi</td>\n",
       "      <td>ja</td>\n",
       "      <td>24-03-2016 00:00</td>\n",
       "      <td>0.0</td>\n",
       "      <td>66954.0</td>\n",
       "      <td>07-04-2016 01:46</td>\n",
       "    </tr>\n",
       "    <tr>\n",
       "      <th>2</th>\n",
       "      <td>14-03-2016 12:52</td>\n",
       "      <td>Jeep_Grand_Cherokee_\"Overland\"</td>\n",
       "      <td>privat</td>\n",
       "      <td>Angebot</td>\n",
       "      <td>9800.0</td>\n",
       "      <td>test</td>\n",
       "      <td>suv</td>\n",
       "      <td>2004.0</td>\n",
       "      <td>automatik</td>\n",
       "      <td>163.0</td>\n",
       "      <td>grand</td>\n",
       "      <td>125000</td>\n",
       "      <td>8.0</td>\n",
       "      <td>diesel</td>\n",
       "      <td>jeep</td>\n",
       "      <td>NaN</td>\n",
       "      <td>14-03-2016 00:00</td>\n",
       "      <td>0.0</td>\n",
       "      <td>90480.0</td>\n",
       "      <td>05-04-2016 12:47</td>\n",
       "    </tr>\n",
       "    <tr>\n",
       "      <th>3</th>\n",
       "      <td>17-03-2016 16:54</td>\n",
       "      <td>GOLF_4_1_4__3TÜRER</td>\n",
       "      <td>privat</td>\n",
       "      <td>Angebot</td>\n",
       "      <td>1500.0</td>\n",
       "      <td>test</td>\n",
       "      <td>kleinwagen</td>\n",
       "      <td>2001.0</td>\n",
       "      <td>manuell</td>\n",
       "      <td>75.0</td>\n",
       "      <td>golf</td>\n",
       "      <td>150000</td>\n",
       "      <td>6.0</td>\n",
       "      <td>benzin</td>\n",
       "      <td>volkswagen</td>\n",
       "      <td>nein</td>\n",
       "      <td>17-03-2016 00:00</td>\n",
       "      <td>0.0</td>\n",
       "      <td>91074.0</td>\n",
       "      <td>17-03-2016 17:40</td>\n",
       "    </tr>\n",
       "    <tr>\n",
       "      <th>4</th>\n",
       "      <td>31-03-2016 17:25</td>\n",
       "      <td>Skoda_Fabia_1.4_TDI_PD_Classic</td>\n",
       "      <td>privat</td>\n",
       "      <td>Angebot</td>\n",
       "      <td>3600.0</td>\n",
       "      <td>test</td>\n",
       "      <td>kleinwagen</td>\n",
       "      <td>2008.0</td>\n",
       "      <td>manuell</td>\n",
       "      <td>69.0</td>\n",
       "      <td>fabia</td>\n",
       "      <td>90000</td>\n",
       "      <td>7.0</td>\n",
       "      <td>diesel</td>\n",
       "      <td>skoda</td>\n",
       "      <td>nein</td>\n",
       "      <td>31-03-2016 00:00</td>\n",
       "      <td>0.0</td>\n",
       "      <td>60437.0</td>\n",
       "      <td>06-04-2016 10:17</td>\n",
       "    </tr>\n",
       "    <tr>\n",
       "      <th>...</th>\n",
       "      <td>...</td>\n",
       "      <td>...</td>\n",
       "      <td>...</td>\n",
       "      <td>...</td>\n",
       "      <td>...</td>\n",
       "      <td>...</td>\n",
       "      <td>...</td>\n",
       "      <td>...</td>\n",
       "      <td>...</td>\n",
       "      <td>...</td>\n",
       "      <td>...</td>\n",
       "      <td>...</td>\n",
       "      <td>...</td>\n",
       "      <td>...</td>\n",
       "      <td>...</td>\n",
       "      <td>...</td>\n",
       "      <td>...</td>\n",
       "      <td>...</td>\n",
       "      <td>...</td>\n",
       "      <td>...</td>\n",
       "    </tr>\n",
       "    <tr>\n",
       "      <th>371534</th>\n",
       "      <td>14-03-2016 17:48</td>\n",
       "      <td>Suche_t4___vito_ab_6_sitze</td>\n",
       "      <td>privat</td>\n",
       "      <td>Angebot</td>\n",
       "      <td>2200.0</td>\n",
       "      <td>test</td>\n",
       "      <td>NaN</td>\n",
       "      <td>2005.0</td>\n",
       "      <td>NaN</td>\n",
       "      <td>0.0</td>\n",
       "      <td>NaN</td>\n",
       "      <td>20000</td>\n",
       "      <td>1.0</td>\n",
       "      <td>NaN</td>\n",
       "      <td>sonstige_autos</td>\n",
       "      <td>NaN</td>\n",
       "      <td>14-03-2016 00:00</td>\n",
       "      <td>0.0</td>\n",
       "      <td>39576.0</td>\n",
       "      <td>06-04-2016 00:46</td>\n",
       "    </tr>\n",
       "    <tr>\n",
       "      <th>371535</th>\n",
       "      <td>05-03-2016 19:56</td>\n",
       "      <td>Smart_smart_leistungssteigerung_100ps</td>\n",
       "      <td>privat</td>\n",
       "      <td>Angebot</td>\n",
       "      <td>1199.0</td>\n",
       "      <td>test</td>\n",
       "      <td>cabrio</td>\n",
       "      <td>2000.0</td>\n",
       "      <td>automatik</td>\n",
       "      <td>101.0</td>\n",
       "      <td>fortwo</td>\n",
       "      <td>125000</td>\n",
       "      <td>3.0</td>\n",
       "      <td>benzin</td>\n",
       "      <td>smart</td>\n",
       "      <td>nein</td>\n",
       "      <td>05-03-2016 00:00</td>\n",
       "      <td>0.0</td>\n",
       "      <td>26135.0</td>\n",
       "      <td>11-03-2016 18:17</td>\n",
       "    </tr>\n",
       "    <tr>\n",
       "      <th>371536</th>\n",
       "      <td>19-03-2016 18:57</td>\n",
       "      <td>Volkswagen_Multivan_T4_TDI_7DC_UY2</td>\n",
       "      <td>privat</td>\n",
       "      <td>Angebot</td>\n",
       "      <td>9200.0</td>\n",
       "      <td>test</td>\n",
       "      <td>bus</td>\n",
       "      <td>1996.0</td>\n",
       "      <td>manuell</td>\n",
       "      <td>102.0</td>\n",
       "      <td>transporter</td>\n",
       "      <td>150000</td>\n",
       "      <td>3.0</td>\n",
       "      <td>diesel</td>\n",
       "      <td>volkswagen</td>\n",
       "      <td>nein</td>\n",
       "      <td>19-03-2016 00:00</td>\n",
       "      <td>0.0</td>\n",
       "      <td>87439.0</td>\n",
       "      <td>07-04-2016 07:15</td>\n",
       "    </tr>\n",
       "    <tr>\n",
       "      <th>371537</th>\n",
       "      <td>20-03-2016 19:41</td>\n",
       "      <td>VW_Golf_Kombi_1_9l_TDI</td>\n",
       "      <td>privat</td>\n",
       "      <td>Angebot</td>\n",
       "      <td>3400.0</td>\n",
       "      <td>test</td>\n",
       "      <td>kombi</td>\n",
       "      <td>2002.0</td>\n",
       "      <td>manuell</td>\n",
       "      <td>100.0</td>\n",
       "      <td>golf</td>\n",
       "      <td>150000</td>\n",
       "      <td>6.0</td>\n",
       "      <td>diesel</td>\n",
       "      <td>volkswagen</td>\n",
       "      <td>NaN</td>\n",
       "      <td>20-03-2016 00:00</td>\n",
       "      <td>0.0</td>\n",
       "      <td>40764.0</td>\n",
       "      <td>24-03-2016 12:45</td>\n",
       "    </tr>\n",
       "    <tr>\n",
       "      <th>371538</th>\n",
       "      <td>07-03-2016 19:39</td>\n",
       "      <td>BMW_M135i_vollausgestattet_NP_52.720____Euro</td>\n",
       "      <td>privat</td>\n",
       "      <td>Angebot</td>\n",
       "      <td>28990.0</td>\n",
       "      <td>control</td>\n",
       "      <td>limousine</td>\n",
       "      <td>2013.0</td>\n",
       "      <td>manuell</td>\n",
       "      <td>320.0</td>\n",
       "      <td>m_reihe</td>\n",
       "      <td>50000</td>\n",
       "      <td>8.0</td>\n",
       "      <td>benzin</td>\n",
       "      <td>bmw</td>\n",
       "      <td>nein</td>\n",
       "      <td>07-03-2016 00:00</td>\n",
       "      <td>0.0</td>\n",
       "      <td>73326.0</td>\n",
       "      <td>22-03-2016 03:17</td>\n",
       "    </tr>\n",
       "  </tbody>\n",
       "</table>\n",
       "<p>371536 rows × 20 columns</p>\n",
       "</div>"
      ],
      "text/plain": [
       "             dateCrawled                                          name  \\\n",
       "0       24-03-2016 11:52                                    Golf_3_1.6   \n",
       "1       24-03-2016 10:58                          A5_Sportback_2.7_Tdi   \n",
       "2       14-03-2016 12:52                Jeep_Grand_Cherokee_\"Overland\"   \n",
       "3       17-03-2016 16:54                            GOLF_4_1_4__3TÜRER   \n",
       "4       31-03-2016 17:25                Skoda_Fabia_1.4_TDI_PD_Classic   \n",
       "...                  ...                                           ...   \n",
       "371534  14-03-2016 17:48                    Suche_t4___vito_ab_6_sitze   \n",
       "371535  05-03-2016 19:56         Smart_smart_leistungssteigerung_100ps   \n",
       "371536  19-03-2016 18:57            Volkswagen_Multivan_T4_TDI_7DC_UY2   \n",
       "371537  20-03-2016 19:41                        VW_Golf_Kombi_1_9l_TDI   \n",
       "371538  07-03-2016 19:39  BMW_M135i_vollausgestattet_NP_52.720____Euro   \n",
       "\n",
       "        seller offerType    price   abtest vehicleType  yearOfRegistration  \\\n",
       "0       privat   Angebot    480.0     test         NaN              1993.0   \n",
       "1       privat   Angebot  18300.0     test       coupe              2011.0   \n",
       "2       privat   Angebot   9800.0     test         suv              2004.0   \n",
       "3       privat   Angebot   1500.0     test  kleinwagen              2001.0   \n",
       "4       privat   Angebot   3600.0     test  kleinwagen              2008.0   \n",
       "...        ...       ...      ...      ...         ...                 ...   \n",
       "371534  privat   Angebot   2200.0     test         NaN              2005.0   \n",
       "371535  privat   Angebot   1199.0     test      cabrio              2000.0   \n",
       "371536  privat   Angebot   9200.0     test         bus              1996.0   \n",
       "371537  privat   Angebot   3400.0     test       kombi              2002.0   \n",
       "371538  privat   Angebot  28990.0  control   limousine              2013.0   \n",
       "\n",
       "          gearbox  powerPS        model kilometer  monthOfRegistration  \\\n",
       "0         manuell      0.0         golf    150000                  0.0   \n",
       "1         manuell    190.0          NaN    125000                  5.0   \n",
       "2       automatik    163.0        grand    125000                  8.0   \n",
       "3         manuell     75.0         golf    150000                  6.0   \n",
       "4         manuell     69.0        fabia     90000                  7.0   \n",
       "...           ...      ...          ...       ...                  ...   \n",
       "371534        NaN      0.0          NaN     20000                  1.0   \n",
       "371535  automatik    101.0       fortwo    125000                  3.0   \n",
       "371536    manuell    102.0  transporter    150000                  3.0   \n",
       "371537    manuell    100.0         golf    150000                  6.0   \n",
       "371538    manuell    320.0      m_reihe     50000                  8.0   \n",
       "\n",
       "       fuelType           brand notRepairedDamage       dateCreated  \\\n",
       "0        benzin      volkswagen               NaN  24-03-2016 00:00   \n",
       "1        diesel            audi                ja  24-03-2016 00:00   \n",
       "2        diesel            jeep               NaN  14-03-2016 00:00   \n",
       "3        benzin      volkswagen              nein  17-03-2016 00:00   \n",
       "4        diesel           skoda              nein  31-03-2016 00:00   \n",
       "...         ...             ...               ...               ...   \n",
       "371534      NaN  sonstige_autos               NaN  14-03-2016 00:00   \n",
       "371535   benzin           smart              nein  05-03-2016 00:00   \n",
       "371536   diesel      volkswagen              nein  19-03-2016 00:00   \n",
       "371537   diesel      volkswagen               NaN  20-03-2016 00:00   \n",
       "371538   benzin             bmw              nein  07-03-2016 00:00   \n",
       "\n",
       "        nrOfPictures  postalCode          lastSeen  \n",
       "0                0.0     70435.0  07-04-2016 03:16  \n",
       "1                0.0     66954.0  07-04-2016 01:46  \n",
       "2                0.0     90480.0  05-04-2016 12:47  \n",
       "3                0.0     91074.0  17-03-2016 17:40  \n",
       "4                0.0     60437.0  06-04-2016 10:17  \n",
       "...              ...         ...               ...  \n",
       "371534           0.0     39576.0  06-04-2016 00:46  \n",
       "371535           0.0     26135.0  11-03-2016 18:17  \n",
       "371536           0.0     87439.0  07-04-2016 07:15  \n",
       "371537           0.0     40764.0  24-03-2016 12:45  \n",
       "371538           0.0     73326.0  22-03-2016 03:17  \n",
       "\n",
       "[371536 rows x 20 columns]"
      ]
     },
     "execution_count": 5,
     "metadata": {},
     "output_type": "execute_result"
    }
   ],
   "source": [
    "#remove the seller type having only 3 cars\n",
    "df[df.seller != 'gewerblich']"
   ]
  },
  {
   "cell_type": "code",
   "execution_count": 6,
   "id": "4f1fe549",
   "metadata": {},
   "outputs": [
    {
     "name": "stderr",
     "output_type": "stream",
     "text": [
      "C:\\Users\\SHARUN KUMAR\\AppData\\Local\\Temp\\ipykernel_15804\\1890498149.py:2: FutureWarning: In a future version of pandas all arguments of DataFrame.drop except for the argument 'labels' will be keyword-only.\n",
      "  df=df.drop('seller',1)\n"
     ]
    }
   ],
   "source": [
    "#now all the sellers are same so we can get rid of this column\n",
    "df=df.drop('seller',1)"
   ]
  },
  {
   "cell_type": "code",
   "execution_count": 7,
   "id": "0f46b06e",
   "metadata": {},
   "outputs": [
    {
     "name": "stdout",
     "output_type": "stream",
     "text": [
      "Angebot    371525\n",
      "Gesuch         12\n",
      "150000          1\n",
      "Name: offerType, dtype: int64\n"
     ]
    }
   ],
   "source": [
    "#print al the different sellers\n",
    "print(df.offerType.value_counts())"
   ]
  },
  {
   "cell_type": "code",
   "execution_count": 8,
   "id": "1f554d20",
   "metadata": {},
   "outputs": [
    {
     "data": {
      "text/html": [
       "<div>\n",
       "<style scoped>\n",
       "    .dataframe tbody tr th:only-of-type {\n",
       "        vertical-align: middle;\n",
       "    }\n",
       "\n",
       "    .dataframe tbody tr th {\n",
       "        vertical-align: top;\n",
       "    }\n",
       "\n",
       "    .dataframe thead th {\n",
       "        text-align: right;\n",
       "    }\n",
       "</style>\n",
       "<table border=\"1\" class=\"dataframe\">\n",
       "  <thead>\n",
       "    <tr style=\"text-align: right;\">\n",
       "      <th></th>\n",
       "      <th>dateCrawled</th>\n",
       "      <th>name</th>\n",
       "      <th>offerType</th>\n",
       "      <th>price</th>\n",
       "      <th>abtest</th>\n",
       "      <th>vehicleType</th>\n",
       "      <th>yearOfRegistration</th>\n",
       "      <th>gearbox</th>\n",
       "      <th>powerPS</th>\n",
       "      <th>model</th>\n",
       "      <th>kilometer</th>\n",
       "      <th>monthOfRegistration</th>\n",
       "      <th>fuelType</th>\n",
       "      <th>brand</th>\n",
       "      <th>notRepairedDamage</th>\n",
       "      <th>dateCreated</th>\n",
       "      <th>nrOfPictures</th>\n",
       "      <th>postalCode</th>\n",
       "      <th>lastSeen</th>\n",
       "    </tr>\n",
       "  </thead>\n",
       "  <tbody>\n",
       "    <tr>\n",
       "      <th>0</th>\n",
       "      <td>24-03-2016 11:52</td>\n",
       "      <td>Golf_3_1.6</td>\n",
       "      <td>Angebot</td>\n",
       "      <td>480.0</td>\n",
       "      <td>test</td>\n",
       "      <td>NaN</td>\n",
       "      <td>1993.0</td>\n",
       "      <td>manuell</td>\n",
       "      <td>0.0</td>\n",
       "      <td>golf</td>\n",
       "      <td>150000</td>\n",
       "      <td>0.0</td>\n",
       "      <td>benzin</td>\n",
       "      <td>volkswagen</td>\n",
       "      <td>NaN</td>\n",
       "      <td>24-03-2016 00:00</td>\n",
       "      <td>0.0</td>\n",
       "      <td>70435.0</td>\n",
       "      <td>07-04-2016 03:16</td>\n",
       "    </tr>\n",
       "    <tr>\n",
       "      <th>1</th>\n",
       "      <td>24-03-2016 10:58</td>\n",
       "      <td>A5_Sportback_2.7_Tdi</td>\n",
       "      <td>Angebot</td>\n",
       "      <td>18300.0</td>\n",
       "      <td>test</td>\n",
       "      <td>coupe</td>\n",
       "      <td>2011.0</td>\n",
       "      <td>manuell</td>\n",
       "      <td>190.0</td>\n",
       "      <td>NaN</td>\n",
       "      <td>125000</td>\n",
       "      <td>5.0</td>\n",
       "      <td>diesel</td>\n",
       "      <td>audi</td>\n",
       "      <td>ja</td>\n",
       "      <td>24-03-2016 00:00</td>\n",
       "      <td>0.0</td>\n",
       "      <td>66954.0</td>\n",
       "      <td>07-04-2016 01:46</td>\n",
       "    </tr>\n",
       "    <tr>\n",
       "      <th>2</th>\n",
       "      <td>14-03-2016 12:52</td>\n",
       "      <td>Jeep_Grand_Cherokee_\"Overland\"</td>\n",
       "      <td>Angebot</td>\n",
       "      <td>9800.0</td>\n",
       "      <td>test</td>\n",
       "      <td>suv</td>\n",
       "      <td>2004.0</td>\n",
       "      <td>automatik</td>\n",
       "      <td>163.0</td>\n",
       "      <td>grand</td>\n",
       "      <td>125000</td>\n",
       "      <td>8.0</td>\n",
       "      <td>diesel</td>\n",
       "      <td>jeep</td>\n",
       "      <td>NaN</td>\n",
       "      <td>14-03-2016 00:00</td>\n",
       "      <td>0.0</td>\n",
       "      <td>90480.0</td>\n",
       "      <td>05-04-2016 12:47</td>\n",
       "    </tr>\n",
       "    <tr>\n",
       "      <th>3</th>\n",
       "      <td>17-03-2016 16:54</td>\n",
       "      <td>GOLF_4_1_4__3TÜRER</td>\n",
       "      <td>Angebot</td>\n",
       "      <td>1500.0</td>\n",
       "      <td>test</td>\n",
       "      <td>kleinwagen</td>\n",
       "      <td>2001.0</td>\n",
       "      <td>manuell</td>\n",
       "      <td>75.0</td>\n",
       "      <td>golf</td>\n",
       "      <td>150000</td>\n",
       "      <td>6.0</td>\n",
       "      <td>benzin</td>\n",
       "      <td>volkswagen</td>\n",
       "      <td>nein</td>\n",
       "      <td>17-03-2016 00:00</td>\n",
       "      <td>0.0</td>\n",
       "      <td>91074.0</td>\n",
       "      <td>17-03-2016 17:40</td>\n",
       "    </tr>\n",
       "    <tr>\n",
       "      <th>4</th>\n",
       "      <td>31-03-2016 17:25</td>\n",
       "      <td>Skoda_Fabia_1.4_TDI_PD_Classic</td>\n",
       "      <td>Angebot</td>\n",
       "      <td>3600.0</td>\n",
       "      <td>test</td>\n",
       "      <td>kleinwagen</td>\n",
       "      <td>2008.0</td>\n",
       "      <td>manuell</td>\n",
       "      <td>69.0</td>\n",
       "      <td>fabia</td>\n",
       "      <td>90000</td>\n",
       "      <td>7.0</td>\n",
       "      <td>diesel</td>\n",
       "      <td>skoda</td>\n",
       "      <td>nein</td>\n",
       "      <td>31-03-2016 00:00</td>\n",
       "      <td>0.0</td>\n",
       "      <td>60437.0</td>\n",
       "      <td>06-04-2016 10:17</td>\n",
       "    </tr>\n",
       "    <tr>\n",
       "      <th>...</th>\n",
       "      <td>...</td>\n",
       "      <td>...</td>\n",
       "      <td>...</td>\n",
       "      <td>...</td>\n",
       "      <td>...</td>\n",
       "      <td>...</td>\n",
       "      <td>...</td>\n",
       "      <td>...</td>\n",
       "      <td>...</td>\n",
       "      <td>...</td>\n",
       "      <td>...</td>\n",
       "      <td>...</td>\n",
       "      <td>...</td>\n",
       "      <td>...</td>\n",
       "      <td>...</td>\n",
       "      <td>...</td>\n",
       "      <td>...</td>\n",
       "      <td>...</td>\n",
       "      <td>...</td>\n",
       "    </tr>\n",
       "    <tr>\n",
       "      <th>371534</th>\n",
       "      <td>14-03-2016 17:48</td>\n",
       "      <td>Suche_t4___vito_ab_6_sitze</td>\n",
       "      <td>Angebot</td>\n",
       "      <td>2200.0</td>\n",
       "      <td>test</td>\n",
       "      <td>NaN</td>\n",
       "      <td>2005.0</td>\n",
       "      <td>NaN</td>\n",
       "      <td>0.0</td>\n",
       "      <td>NaN</td>\n",
       "      <td>20000</td>\n",
       "      <td>1.0</td>\n",
       "      <td>NaN</td>\n",
       "      <td>sonstige_autos</td>\n",
       "      <td>NaN</td>\n",
       "      <td>14-03-2016 00:00</td>\n",
       "      <td>0.0</td>\n",
       "      <td>39576.0</td>\n",
       "      <td>06-04-2016 00:46</td>\n",
       "    </tr>\n",
       "    <tr>\n",
       "      <th>371535</th>\n",
       "      <td>05-03-2016 19:56</td>\n",
       "      <td>Smart_smart_leistungssteigerung_100ps</td>\n",
       "      <td>Angebot</td>\n",
       "      <td>1199.0</td>\n",
       "      <td>test</td>\n",
       "      <td>cabrio</td>\n",
       "      <td>2000.0</td>\n",
       "      <td>automatik</td>\n",
       "      <td>101.0</td>\n",
       "      <td>fortwo</td>\n",
       "      <td>125000</td>\n",
       "      <td>3.0</td>\n",
       "      <td>benzin</td>\n",
       "      <td>smart</td>\n",
       "      <td>nein</td>\n",
       "      <td>05-03-2016 00:00</td>\n",
       "      <td>0.0</td>\n",
       "      <td>26135.0</td>\n",
       "      <td>11-03-2016 18:17</td>\n",
       "    </tr>\n",
       "    <tr>\n",
       "      <th>371536</th>\n",
       "      <td>19-03-2016 18:57</td>\n",
       "      <td>Volkswagen_Multivan_T4_TDI_7DC_UY2</td>\n",
       "      <td>Angebot</td>\n",
       "      <td>9200.0</td>\n",
       "      <td>test</td>\n",
       "      <td>bus</td>\n",
       "      <td>1996.0</td>\n",
       "      <td>manuell</td>\n",
       "      <td>102.0</td>\n",
       "      <td>transporter</td>\n",
       "      <td>150000</td>\n",
       "      <td>3.0</td>\n",
       "      <td>diesel</td>\n",
       "      <td>volkswagen</td>\n",
       "      <td>nein</td>\n",
       "      <td>19-03-2016 00:00</td>\n",
       "      <td>0.0</td>\n",
       "      <td>87439.0</td>\n",
       "      <td>07-04-2016 07:15</td>\n",
       "    </tr>\n",
       "    <tr>\n",
       "      <th>371537</th>\n",
       "      <td>20-03-2016 19:41</td>\n",
       "      <td>VW_Golf_Kombi_1_9l_TDI</td>\n",
       "      <td>Angebot</td>\n",
       "      <td>3400.0</td>\n",
       "      <td>test</td>\n",
       "      <td>kombi</td>\n",
       "      <td>2002.0</td>\n",
       "      <td>manuell</td>\n",
       "      <td>100.0</td>\n",
       "      <td>golf</td>\n",
       "      <td>150000</td>\n",
       "      <td>6.0</td>\n",
       "      <td>diesel</td>\n",
       "      <td>volkswagen</td>\n",
       "      <td>NaN</td>\n",
       "      <td>20-03-2016 00:00</td>\n",
       "      <td>0.0</td>\n",
       "      <td>40764.0</td>\n",
       "      <td>24-03-2016 12:45</td>\n",
       "    </tr>\n",
       "    <tr>\n",
       "      <th>371538</th>\n",
       "      <td>07-03-2016 19:39</td>\n",
       "      <td>BMW_M135i_vollausgestattet_NP_52.720____Euro</td>\n",
       "      <td>Angebot</td>\n",
       "      <td>28990.0</td>\n",
       "      <td>control</td>\n",
       "      <td>limousine</td>\n",
       "      <td>2013.0</td>\n",
       "      <td>manuell</td>\n",
       "      <td>320.0</td>\n",
       "      <td>m_reihe</td>\n",
       "      <td>50000</td>\n",
       "      <td>8.0</td>\n",
       "      <td>benzin</td>\n",
       "      <td>bmw</td>\n",
       "      <td>nein</td>\n",
       "      <td>07-03-2016 00:00</td>\n",
       "      <td>0.0</td>\n",
       "      <td>73326.0</td>\n",
       "      <td>22-03-2016 03:17</td>\n",
       "    </tr>\n",
       "  </tbody>\n",
       "</table>\n",
       "<p>371527 rows × 19 columns</p>\n",
       "</div>"
      ],
      "text/plain": [
       "             dateCrawled                                          name  \\\n",
       "0       24-03-2016 11:52                                    Golf_3_1.6   \n",
       "1       24-03-2016 10:58                          A5_Sportback_2.7_Tdi   \n",
       "2       14-03-2016 12:52                Jeep_Grand_Cherokee_\"Overland\"   \n",
       "3       17-03-2016 16:54                            GOLF_4_1_4__3TÜRER   \n",
       "4       31-03-2016 17:25                Skoda_Fabia_1.4_TDI_PD_Classic   \n",
       "...                  ...                                           ...   \n",
       "371534  14-03-2016 17:48                    Suche_t4___vito_ab_6_sitze   \n",
       "371535  05-03-2016 19:56         Smart_smart_leistungssteigerung_100ps   \n",
       "371536  19-03-2016 18:57            Volkswagen_Multivan_T4_TDI_7DC_UY2   \n",
       "371537  20-03-2016 19:41                        VW_Golf_Kombi_1_9l_TDI   \n",
       "371538  07-03-2016 19:39  BMW_M135i_vollausgestattet_NP_52.720____Euro   \n",
       "\n",
       "       offerType    price   abtest vehicleType  yearOfRegistration    gearbox  \\\n",
       "0        Angebot    480.0     test         NaN              1993.0    manuell   \n",
       "1        Angebot  18300.0     test       coupe              2011.0    manuell   \n",
       "2        Angebot   9800.0     test         suv              2004.0  automatik   \n",
       "3        Angebot   1500.0     test  kleinwagen              2001.0    manuell   \n",
       "4        Angebot   3600.0     test  kleinwagen              2008.0    manuell   \n",
       "...          ...      ...      ...         ...                 ...        ...   \n",
       "371534   Angebot   2200.0     test         NaN              2005.0        NaN   \n",
       "371535   Angebot   1199.0     test      cabrio              2000.0  automatik   \n",
       "371536   Angebot   9200.0     test         bus              1996.0    manuell   \n",
       "371537   Angebot   3400.0     test       kombi              2002.0    manuell   \n",
       "371538   Angebot  28990.0  control   limousine              2013.0    manuell   \n",
       "\n",
       "        powerPS        model kilometer  monthOfRegistration fuelType  \\\n",
       "0           0.0         golf    150000                  0.0   benzin   \n",
       "1         190.0          NaN    125000                  5.0   diesel   \n",
       "2         163.0        grand    125000                  8.0   diesel   \n",
       "3          75.0         golf    150000                  6.0   benzin   \n",
       "4          69.0        fabia     90000                  7.0   diesel   \n",
       "...         ...          ...       ...                  ...      ...   \n",
       "371534      0.0          NaN     20000                  1.0      NaN   \n",
       "371535    101.0       fortwo    125000                  3.0   benzin   \n",
       "371536    102.0  transporter    150000                  3.0   diesel   \n",
       "371537    100.0         golf    150000                  6.0   diesel   \n",
       "371538    320.0      m_reihe     50000                  8.0   benzin   \n",
       "\n",
       "                 brand notRepairedDamage       dateCreated  nrOfPictures  \\\n",
       "0           volkswagen               NaN  24-03-2016 00:00           0.0   \n",
       "1                 audi                ja  24-03-2016 00:00           0.0   \n",
       "2                 jeep               NaN  14-03-2016 00:00           0.0   \n",
       "3           volkswagen              nein  17-03-2016 00:00           0.0   \n",
       "4                skoda              nein  31-03-2016 00:00           0.0   \n",
       "...                ...               ...               ...           ...   \n",
       "371534  sonstige_autos               NaN  14-03-2016 00:00           0.0   \n",
       "371535           smart              nein  05-03-2016 00:00           0.0   \n",
       "371536      volkswagen              nein  19-03-2016 00:00           0.0   \n",
       "371537      volkswagen               NaN  20-03-2016 00:00           0.0   \n",
       "371538             bmw              nein  07-03-2016 00:00           0.0   \n",
       "\n",
       "        postalCode          lastSeen  \n",
       "0          70435.0  07-04-2016 03:16  \n",
       "1          66954.0  07-04-2016 01:46  \n",
       "2          90480.0  05-04-2016 12:47  \n",
       "3          91074.0  17-03-2016 17:40  \n",
       "4          60437.0  06-04-2016 10:17  \n",
       "...            ...               ...  \n",
       "371534     39576.0  06-04-2016 00:46  \n",
       "371535     26135.0  11-03-2016 18:17  \n",
       "371536     87439.0  07-04-2016 07:15  \n",
       "371537     40764.0  24-03-2016 12:45  \n",
       "371538     73326.0  22-03-2016 03:17  \n",
       "\n",
       "[371527 rows x 19 columns]"
      ]
     },
     "execution_count": 8,
     "metadata": {},
     "output_type": "execute_result"
    }
   ],
   "source": [
    "#remove the Offer Type having only 12 listings\n",
    "df[df.offerType != 'Gesuch']"
   ]
  },
  {
   "cell_type": "code",
   "execution_count": 9,
   "id": "da381624",
   "metadata": {},
   "outputs": [
    {
     "name": "stderr",
     "output_type": "stream",
     "text": [
      "C:\\Users\\SHARUN KUMAR\\AppData\\Local\\Temp\\ipykernel_15804\\3331228484.py:2: FutureWarning: In a future version of pandas all arguments of DataFrame.drop except for the argument 'labels' will be keyword-only.\n",
      "  df=df.drop('offerType',1)\n"
     ]
    }
   ],
   "source": [
    "#now all the offers are same so we can get rid of this column\n",
    "df=df.drop('offerType',1)"
   ]
  },
  {
   "cell_type": "code",
   "execution_count": 10,
   "id": "732aec1d",
   "metadata": {},
   "outputs": [
    {
     "name": "stdout",
     "output_type": "stream",
     "text": [
      "(371539, 18)\n"
     ]
    }
   ],
   "source": [
    "#Cars having power less than 50ps and above 900ps seems a little suspicious,\n",
    "#let's remove them and see what we've got now\n",
    "print(df.shape)\n",
    "df = df[(df.powerPS > 50) & (df.powerPS < 900)]"
   ]
  },
  {
   "cell_type": "code",
   "execution_count": 11,
   "id": "68ce6eef",
   "metadata": {},
   "outputs": [
    {
     "name": "stdout",
     "output_type": "stream",
     "text": [
      "(319717, 18)\n"
     ]
    }
   ],
   "source": [
    "print(df.shape)\n",
    "#around 50000 cars ahave been removed which could have inrouduced error to our data"
   ]
  },
  {
   "cell_type": "code",
   "execution_count": 12,
   "id": "bf874b11",
   "metadata": {},
   "outputs": [],
   "source": [
    "#simlarly, filtering our the cars having registeration years not in the mentioned range\n",
    "#print(df.shape)\n",
    "df = df[(df.yearOfRegistration >= 1950) & (df.yearOfRegistration < 2017)]"
   ]
  },
  {
   "cell_type": "code",
   "execution_count": 13,
   "id": "e875928a",
   "metadata": {},
   "outputs": [
    {
     "name": "stdout",
     "output_type": "stream",
     "text": [
      "(309179, 18)\n"
     ]
    }
   ],
   "source": [
    "print(df.shape)\n",
    "# not much of a difference but still, 10000 rows have been reduced. it's better to \n",
    "#get rid of faulty data instead of keeping them just to increase the size."
   ]
  },
  {
   "cell_type": "code",
   "execution_count": 14,
   "id": "125a7d80",
   "metadata": {},
   "outputs": [],
   "source": [
    "#removing irrelevant columns which are either the same for all the cars in teh dataset, or can\n",
    "#introduce bias, so removing them too.\n",
    "df.drop(['name','abtest', 'dateCrawled', 'nrOfPictures', 'lastSeen',\n",
    "         'postalCode', 'dateCreated'], axis='columns', inplace=True)"
   ]
  },
  {
   "cell_type": "code",
   "execution_count": 15,
   "id": "3dfd554b",
   "metadata": {},
   "outputs": [
    {
     "name": "stdout",
     "output_type": "stream",
     "text": [
      "(309179, 11)\n"
     ]
    }
   ],
   "source": [
    "#final data that we have now\n",
    "print(df.shape)"
   ]
  },
  {
   "cell_type": "code",
   "execution_count": 16,
   "id": "9767621d",
   "metadata": {},
   "outputs": [],
   "source": [
    "#dropping the duplicates from the dataframe and stroing it in a new df.\n",
    "#here all rows having same value in all the mentioned columns will be deleted and by default,\n",
    "#only first occurance of anysuch row is kept\n",
    "new_df = df.copy()\n",
    "new_df = new_df.drop_duplicates(['price','vehicleType','yearOfRegistration'\n",
    "                         ,'gearbox','powerPS','model','kilometer','monthOfRegistration','fuelType'\n",
    "                         ,'notRepairedDamage'])\n"
   ]
  },
  {
   "cell_type": "code",
   "execution_count": 17,
   "id": "1cadaf7e",
   "metadata": {},
   "outputs": [
    {
     "name": "stdout",
     "output_type": "stream",
     "text": [
      "(288580, 11)\n"
     ]
    }
   ],
   "source": [
    "#after removing duplicates\n",
    "print(new_df.shape)"
   ]
  },
  {
   "cell_type": "code",
   "execution_count": 18,
   "id": "68a0f8a0",
   "metadata": {},
   "outputs": [],
   "source": [
    "#As the dataset contained some german words for many features, cahnging them to english\n",
    "new_df.gearbox.replace(('manuell', 'automatik'), ('manual','automatic'), inplace=True)\n",
    "new_df.fuelType.replace(('benzin','andere','elektro'),('petrol','others','electric'),inplace=True)\n",
    "new_df.vehicleType.replace(('kleinwagen', 'cabrio','kombi','andere'),\n",
    "                           ('small car','convertible','combination','others'),inplace=True)\n",
    "new_df.notRepairedDamage.replace(('ja','nein'),('Yes','No'),inplace=True)"
   ]
  },
  {
   "cell_type": "code",
   "execution_count": 19,
   "id": "c3c407e2",
   "metadata": {},
   "outputs": [],
   "source": [
    "#### Removing the outliers\n",
    "new_df = new_df[(new_df.price >= 100) & (new_df.price <= 150000)]"
   ]
  },
  {
   "cell_type": "code",
   "execution_count": 20,
   "id": "6af93adf",
   "metadata": {},
   "outputs": [],
   "source": [
    "#Filling NaN values for columns whose data might not be there with the information provider,\n",
    "#which might lead to some variance but our model\n",
    "#but we will still be able to give some estimate to the user\n",
    "new_df['notRepairedDamage'].fillna(value='not-declared', inplace=True)\n",
    "new_df['fuelType'].fillna(value='not-declared', inplace=True)\n",
    "new_df['gearbox'].fillna(value='not-declared', inplace=True)\n",
    "new_df['vehicleType'].fillna(value='not-declared', inplace=True)\n",
    "new_df['model'].fillna(value='not-declared', inplace=True)"
   ]
  },
  {
   "cell_type": "code",
   "execution_count": 21,
   "id": "2cc6c3c2",
   "metadata": {},
   "outputs": [],
   "source": [
    "#can save the csv for future purpose. \n",
    "new_df.to_csv(\"autos_preprocessed.csv\")"
   ]
  },
  {
   "cell_type": "code",
   "execution_count": 22,
   "id": "43cc28fb",
   "metadata": {},
   "outputs": [],
   "source": [
    "#Columns which contain categorical values, which we'll need to convert via label encoding\n",
    "labels = ['gearbox', 'notRepairedDamage', 'model', 'brand', 'fuelType', 'vehicleType']"
   ]
  },
  {
   "cell_type": "code",
   "execution_count": 23,
   "id": "0a0c8709",
   "metadata": {},
   "outputs": [
    {
     "name": "stdout",
     "output_type": "stream",
     "text": [
      "gearbox : LabelEncoder()\n",
      "notRepairedDamage : LabelEncoder()\n",
      "model : LabelEncoder()\n",
      "brand : LabelEncoder()\n",
      "fuelType : LabelEncoder()\n",
      "vehicleType : LabelEncoder()\n"
     ]
    }
   ],
   "source": [
    "#looping over the labels to do the label encoding for all at once and \n",
    "#saving the LABEL ENCODING FILES\n",
    "mapper = {}\n",
    "for i in labels:\n",
    "    mapper[i] = LabelEncoder()\n",
    "    mapper[i].fit(new_df[i])\n",
    "    tr = mapper[i].transform(new_df[i])\n",
    "    np.save(str('classes'+i+'.npy'), mapper[i].classes_)\n",
    "    print(i,\":\",mapper[i])\n",
    "    new_df.loc[:, i + '_labels'] = pd.Series(tr, index=new_df.index)"
   ]
  },
  {
   "cell_type": "code",
   "execution_count": 24,
   "id": "2673cb82",
   "metadata": {},
   "outputs": [],
   "source": [
    "#Final data to be put in a new dataframe called \"LABELED\",\n",
    "labeled = new_df[ ['price'\n",
    "                        ,'yearOfRegistration'\n",
    "                        ,'powerPS'\n",
    "                        ,'kilometer'\n",
    "                        ,'monthOfRegistration'\n",
    "                        ] \n",
    "                    + [x+\"_labels\" for x in labels]]"
   ]
  },
  {
   "cell_type": "code",
   "execution_count": 25,
   "id": "5a451b9b",
   "metadata": {},
   "outputs": [
    {
     "name": "stdout",
     "output_type": "stream",
     "text": [
      "Index(['price', 'yearOfRegistration', 'powerPS', 'kilometer',\n",
      "       'monthOfRegistration', 'gearbox_labels', 'notRepairedDamage_labels',\n",
      "       'model_labels', 'brand_labels', 'fuelType_labels',\n",
      "       'vehicleType_labels'],\n",
      "      dtype='object')\n"
     ]
    }
   ],
   "source": [
    "print(labeled.columns)"
   ]
  },
  {
   "cell_type": "markdown",
   "id": "5375bbe3",
   "metadata": {},
   "source": [
    "# Train-Test Split"
   ]
  },
  {
   "cell_type": "code",
   "execution_count": 26,
   "id": "ee4b1fca",
   "metadata": {},
   "outputs": [],
   "source": [
    "#Storing price in Y and rest of the data in X\n",
    "Y = labeled.iloc[:,0].values\n",
    "X = labeled.iloc[:,1:].values"
   ]
  },
  {
   "cell_type": "code",
   "execution_count": 27,
   "id": "44b143ff",
   "metadata": {},
   "outputs": [],
   "source": [
    "#need to reshape the Y values\n",
    "Y = Y.reshape(-1,1)"
   ]
  },
  {
   "cell_type": "code",
   "execution_count": 28,
   "id": "e7c4a9c8",
   "metadata": {},
   "outputs": [],
   "source": [
    "from sklearn.model_selection import cross_val_score, train_test_split\n",
    "X_train, X_test, Y_train, Y_test = train_test_split(X, Y, test_size=0.3, random_state = 3)"
   ]
  },
  {
   "cell_type": "markdown",
   "id": "ea95f3de",
   "metadata": {},
   "source": [
    "# Model building and Fitting"
   ]
  },
  {
   "cell_type": "code",
   "execution_count": 29,
   "id": "9bad36c9",
   "metadata": {},
   "outputs": [],
   "source": [
    "from sklearn.ensemble import RandomForestRegressor\n",
    "from sklearn.metrics import r2_score\n",
    "regressor = RandomForestRegressor(n_estimators=1000,max_depth=10,random_state=34)"
   ]
  },
  {
   "cell_type": "code",
   "execution_count": 30,
   "id": "e9d27992",
   "metadata": {},
   "outputs": [
    {
     "data": {
      "text/plain": [
       "RandomForestRegressor(max_depth=10, n_estimators=1000, random_state=34)"
      ]
     },
     "execution_count": 30,
     "metadata": {},
     "output_type": "execute_result"
    }
   ],
   "source": [
    "#fitting the model\n",
    "regressor.fit(X_train, np.ravel(Y_train,order='C'))"
   ]
  },
  {
   "cell_type": "code",
   "execution_count": 31,
   "id": "61f9f9e7",
   "metadata": {},
   "outputs": [],
   "source": [
    "#predicting the values fo test test\n",
    "y_pred = regressor.predict(X_test)"
   ]
  },
  {
   "cell_type": "code",
   "execution_count": 32,
   "id": "96332aea",
   "metadata": {},
   "outputs": [
    {
     "name": "stdout",
     "output_type": "stream",
     "text": [
      "0.8396847388211943\n"
     ]
    }
   ],
   "source": [
    "#printing the Accuraccy for test set\n",
    "print(r2_score(Y_test,y_pred))"
   ]
  },
  {
   "cell_type": "code",
   "execution_count": 33,
   "id": "2ce51095",
   "metadata": {},
   "outputs": [
    {
     "name": "stdout",
     "output_type": "stream",
     "text": [
      "[19060.37135803]\n"
     ]
    }
   ],
   "source": [
    "#for testing on user input values\n",
    "y_pred1 = regressor.predict([[2011,190,125000,5,1,0,163,1,3,3]])\n",
    "#predticting price for a user input values\n",
    "print(y_pred1)"
   ]
  },
  {
   "cell_type": "code",
   "execution_count": 34,
   "id": "fae7dd79",
   "metadata": {},
   "outputs": [],
   "source": [
    "#saving the model for future use.\n",
    "filename = 'resale_model.sav'\n",
    "pickle.dump(regressor, open(filename, 'wb'))"
   ]
  },
  {
   "cell_type": "code",
   "execution_count": null,
   "id": "d2fb9e71",
   "metadata": {},
   "outputs": [],
   "source": []
  }
 ],
 "metadata": {
  "kernelspec": {
   "display_name": "Python 3 (ipykernel)",
   "language": "python",
   "name": "python3"
  },
  "language_info": {
   "codemirror_mode": {
    "name": "ipython",
    "version": 3
   },
   "file_extension": ".py",
   "mimetype": "text/x-python",
   "name": "python",
   "nbconvert_exporter": "python",
   "pygments_lexer": "ipython3",
   "version": "3.9.7"
  }
 },
 "nbformat": 4,
 "nbformat_minor": 5
}
